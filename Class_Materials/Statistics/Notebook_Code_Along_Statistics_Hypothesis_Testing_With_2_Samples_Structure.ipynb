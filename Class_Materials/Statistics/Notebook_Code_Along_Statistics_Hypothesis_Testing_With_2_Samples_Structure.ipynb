{
 "cells": [
  {
   "cell_type": "markdown",
   "metadata": {
    "id": "RLmJpN8ItwRO"
   },
   "source": [
    "## 2 sample Hypothesis testing\n",
    "\n",
    "https://www.youtube.com/watch?v=NkGvw18zlGQ"
   ]
  },
  {
   "cell_type": "code",
   "execution_count": 1,
   "metadata": {
    "executionInfo": {
     "elapsed": 673,
     "status": "ok",
     "timestamp": 1625040671754,
     "user": {
      "displayName": "Ignacio Soteras",
      "photoUrl": "",
      "userId": "02050793736257155229"
     },
     "user_tz": -120
    },
    "id": "9wtpAFy9twRW"
   },
   "outputs": [],
   "source": [
    "import scipy.stats as stats\n",
    "import numpy as np"
   ]
  },
  {
   "cell_type": "code",
   "execution_count": 2,
   "metadata": {
    "executionInfo": {
     "elapsed": 231,
     "status": "ok",
     "timestamp": 1625042661488,
     "user": {
      "displayName": "Ignacio Soteras",
      "photoUrl": "",
      "userId": "02050793736257155229"
     },
     "user_tz": -120
    },
    "id": "8EzzgrcdFNQH"
   },
   "outputs": [],
   "source": [
    "import matplotlib.pyplot as plt\n",
    "import numpy as np\n",
    "import scipy.stats as stats\n",
    "import math\n",
    "\n",
    "%matplotlib inline\n",
    "\n",
    "def visual_test(statistic, critical, dist = 'Norm', df = 0):\n",
    "    '''\n",
    "    Function to plot the normal or the t-student distribution \n",
    "    showing the location of the critical values and the statistic location.\n",
    "    Inputs:\n",
    "        statistic -> user's statistic\n",
    "        critical  -> critical value\n",
    "    Parameter:\n",
    "        dist -> distribution to use\n",
    "        df   -> degrees of freedom\n",
    "    Outputs:\n",
    "        Plots the corresponding distribution showin the user statistic location and the critical value.\n",
    "    '''\n",
    "\n",
    "    mu = 0\n",
    "    sigma = 1\n",
    "\n",
    "    x = np.linspace(mu - 4*sigma, mu + 4*sigma, 100)\n",
    "    x0 = np.linspace(mu - 4*sigma, mu + 4*sigma, 100)\n",
    "\n",
    "    if ( dist == 'Norm' ):\n",
    "        plt.plot(x, stats.norm.pdf(x, mu, sigma))\n",
    "        plt.fill_between(x0,stats.norm.pdf(x, mu, sigma),where = (x < -critical),facecolor='red')\n",
    "        plt.fill_between(x0,stats.norm.pdf(x, mu, sigma),where = (x > critical),facecolor='red')\n",
    "    else:\n",
    "        if ( df == 0 ):\n",
    "            while ( df == 0 or type(df) != int):\n",
    "                try:\n",
    "                    df = int(input(\"Set the correct value of degrees of freedom please: \" )) \n",
    "                except:\n",
    "                    df = 0       \n",
    "        plt.plot(x, stats.t.pdf(x,df))\n",
    "        plt.fill_between(x0,stats.t.pdf(x,df),where = (x < -critical),facecolor='red')\n",
    "        plt.fill_between(x0,stats.t.pdf(x,df),where = (x > critical),facecolor='red')\n",
    "\n",
    "    plt.axvline(-critical, c = 'r')\n",
    "    plt.axvline(critical, c = 'r')\n",
    "    plt.axvline(-statistic,c='b')\n",
    "    plt.axvline(statistic,c='b')\n",
    "\n",
    "    plt.show()"
   ]
  },
  {
   "cell_type": "markdown",
   "metadata": {
    "id": "QV2DJO0RtwRX"
   },
   "source": [
    "Let's generate two populations of students. \n",
    "\n",
    "* Male students with an average speed of 140km/h and standard deviation of 15km/h. \n",
    "\n",
    "* Female students with an average speed of 110km/h and standard deviation of 10km/h."
   ]
  },
  {
   "cell_type": "code",
   "execution_count": 3,
   "metadata": {
    "executionInfo": {
     "elapsed": 282,
     "status": "ok",
     "timestamp": 1625040808150,
     "user": {
      "displayName": "Ignacio Soteras",
      "photoUrl": "",
      "userId": "02050793736257155229"
     },
     "user_tz": -120
    },
    "id": "1FrbkkRbXnzD"
   },
   "outputs": [],
   "source": [
    "pop_males = stats.norm.rvs(size=1000,loc=140, scale = 15, random_state = 1)\n",
    "pop_females = stats.norm.rvs(size=1000,loc=110, scale = 10, random_state = 7)"
   ]
  },
  {
   "cell_type": "markdown",
   "metadata": {
    "id": "KXXZcIxpYhFM"
   },
   "source": [
    "Let's pick two samples of 34 males and 29 females from the previous populations."
   ]
  },
  {
   "cell_type": "code",
   "execution_count": 4,
   "metadata": {
    "colab": {
     "base_uri": "https://localhost:8080/"
    },
    "executionInfo": {
     "elapsed": 290,
     "status": "ok",
     "timestamp": 1625040812348,
     "user": {
      "displayName": "Ignacio Soteras",
      "photoUrl": "",
      "userId": "02050793736257155229"
     },
     "user_tz": -120
    },
    "id": "oNXu9NlTVQRW",
    "outputId": "a47362c3-7ccb-4536-88a3-49544c128a61"
   },
   "outputs": [
    {
     "data": {
      "text/plain": [
       "numpy.ndarray"
      ]
     },
     "execution_count": 4,
     "metadata": {},
     "output_type": "execute_result"
    }
   ],
   "source": [
    "type(pop_males)"
   ]
  },
  {
   "cell_type": "code",
   "execution_count": 5,
   "metadata": {
    "executionInfo": {
     "elapsed": 241,
     "status": "ok",
     "timestamp": 1625040871884,
     "user": {
      "displayName": "Ignacio Soteras",
      "photoUrl": "",
      "userId": "02050793736257155229"
     },
     "user_tz": -120
    },
    "id": "ITtFebgaYHmV"
   },
   "outputs": [],
   "source": [
    "males_sample = np.random.choice(pop_males,size=34, replace=False) # pop_males.sample() not possible because `.sample()`only works with pandas Dataframes\n",
    "females_sample = np.random.choice(pop_females,size=29, replace=False) #"
   ]
  },
  {
   "cell_type": "code",
   "execution_count": 6,
   "metadata": {
    "colab": {
     "base_uri": "https://localhost:8080/"
    },
    "executionInfo": {
     "elapsed": 5,
     "status": "ok",
     "timestamp": 1625040874700,
     "user": {
      "displayName": "Ignacio Soteras",
      "photoUrl": "",
      "userId": "02050793736257155229"
     },
     "user_tz": -120
    },
    "id": "uuQJC1CVWObd",
    "outputId": "ffc3fc10-83a1-46a8-9b75-7594e78e6723"
   },
   "outputs": [
    {
     "data": {
      "text/plain": [
       "numpy.ndarray"
      ]
     },
     "execution_count": 6,
     "metadata": {},
     "output_type": "execute_result"
    }
   ],
   "source": [
    "type(males_sample)"
   ]
  },
  {
   "cell_type": "code",
   "execution_count": 8,
   "metadata": {
    "colab": {
     "base_uri": "https://localhost:8080/"
    },
    "executionInfo": {
     "elapsed": 237,
     "status": "ok",
     "timestamp": 1625041298011,
     "user": {
      "displayName": "Ignacio Soteras",
      "photoUrl": "",
      "userId": "02050793736257155229"
     },
     "user_tz": -120
    },
    "id": "FUvZUGdmZPZm",
    "outputId": "bd4df0bc-afe2-4f2e-a784-dde0e3273716"
   },
   "outputs": [
    {
     "name": "stdout",
     "output_type": "stream",
     "text": [
      "The sample mean of males is: 139.01\n",
      "The sample mean of females is: 109.55\n"
     ]
    }
   ],
   "source": [
    "mean_males = np.mean(males_sample)# use np.mean()\n",
    "mean_females = np.mean(females_sample)# use np.mean()\n",
    "\n",
    "print(\"The sample mean of males is: {:.2f}\".format(mean_males))\n",
    "print(\"The sample mean of females is: {:.2f}\".format(mean_females))"
   ]
  },
  {
   "cell_type": "code",
   "execution_count": 23,
   "metadata": {
    "colab": {
     "base_uri": "https://localhost:8080/"
    },
    "executionInfo": {
     "elapsed": 239,
     "status": "ok",
     "timestamp": 1625041684307,
     "user": {
      "displayName": "Ignacio Soteras",
      "photoUrl": "",
      "userId": "02050793736257155229"
     },
     "user_tz": -120
    },
    "id": "DeeOVPxHaI6b",
    "outputId": "7d22713d-6a7f-4d62-8895-4a94277e215c"
   },
   "outputs": [
    {
     "name": "stdout",
     "output_type": "stream",
     "text": [
      "The sample standard deviation of males is: 15.01\n",
      "The sample standard deviation of females is: 11.18\n"
     ]
    }
   ],
   "source": [
    "std_males = np.std(males_sample)\n",
    "std_females = np.std(females_sample)\n",
    "\n",
    "print(\"The sample standard deviation of males is: {:.2f}\".format(std_males))\n",
    "print(\"The sample standard deviation of females is: {:.2f}\".format(std_females))"
   ]
  },
  {
   "cell_type": "markdown",
   "metadata": {
    "id": "UBK4xoOma4oH"
   },
   "source": [
    "Now, let's compute our statistic"
   ]
  },
  {
   "cell_type": "code",
   "execution_count": 24,
   "metadata": {
    "colab": {
     "base_uri": "https://localhost:8080/"
    },
    "executionInfo": {
     "elapsed": 232,
     "status": "ok",
     "timestamp": 1625041766221,
     "user": {
      "displayName": "Ignacio Soteras",
      "photoUrl": "",
      "userId": "02050793736257155229"
     },
     "user_tz": -120
    },
    "id": "Lm61sdOMa8GI",
    "outputId": "d15bb86f-45d1-4bbe-bcb3-e5981ea5ddfa"
   },
   "outputs": [
    {
     "name": "stdout",
     "output_type": "stream",
     "text": [
      "Our t statistic is: 8.91\n"
     ]
    }
   ],
   "source": [
    "t = ( mean_males - mean_females ) / np.sqrt( ((std_males**2)/34) + ((std_females**2)/29 ) )\n",
    "\n",
    "print(\"Our t statistic is: {:.2f}\".format(t))"
   ]
  },
  {
   "cell_type": "markdown",
   "metadata": {
    "id": "D1Psh41vbiC4"
   },
   "source": [
    "Now let's compute the critical value. As the smallest sample size is 29 which is < 30, we need to use the t-Student distribution. The number of degrees of freedom is $df \\equiv n_{2}-1=29-1=28$.\n",
    "\n",
    "Setting the confidence level to 95%. What is the critical value?"
   ]
  },
  {
   "cell_type": "code",
   "execution_count": 25,
   "metadata": {
    "colab": {
     "base_uri": "https://localhost:8080/"
    },
    "executionInfo": {
     "elapsed": 236,
     "status": "ok",
     "timestamp": 1625042340987,
     "user": {
      "displayName": "Ignacio Soteras",
      "photoUrl": "",
      "userId": "02050793736257155229"
     },
     "user_tz": -120
    },
    "id": "bLm0acFUbhUK",
    "outputId": "558c5e5f-2d01-4172-f130-993a18040e55"
   },
   "outputs": [
    {
     "name": "stdout",
     "output_type": "stream",
     "text": [
      "The tc critical value is: 2.05\n"
     ]
    }
   ],
   "source": [
    "tc = stats.t.ppf(1-(0.05/2),df=28) \n",
    "\n",
    "print(\"The tc critical value is: {:.2f}\".format(tc))"
   ]
  },
  {
   "cell_type": "markdown",
   "metadata": {
    "id": "rPTxNRrFcdsI"
   },
   "source": [
    "Compare t with tc. Are you in the rejection area?"
   ]
  },
  {
   "cell_type": "markdown",
   "metadata": {},
   "source": [
    "<b>we reject it "
   ]
  },
  {
   "cell_type": "markdown",
   "metadata": {
    "id": "HDKPoR0LL1vk"
   },
   "source": [
    "* Now do the same with visual_test() function.\n",
    "* See what happens if you do the test with t-Student distribution."
   ]
  },
  {
   "cell_type": "code",
   "execution_count": 27,
   "metadata": {
    "colab": {
     "base_uri": "https://localhost:8080/",
     "height": 265
    },
    "executionInfo": {
     "elapsed": 640,
     "status": "ok",
     "timestamp": 1625042670318,
     "user": {
      "displayName": "Ignacio Soteras",
      "photoUrl": "",
      "userId": "02050793736257155229"
     },
     "user_tz": -120
    },
    "id": "LIsTF-BmGX-a",
    "outputId": "bb20a668-1ccb-46e1-bbe7-554b5a8c6bba"
   },
   "outputs": [
    {
     "data": {
      "image/png": "[encoded data removed]",
      "text/plain": [
       "<Figure size 432x288 with 1 Axes>"
      ]
     },
     "metadata": {
      "needs_background": "light"
     },
     "output_type": "display_data"
    }
   ],
   "source": [
    "visual_test(t,tc,dist = 't', df = 28)"
   ]
  },
  {
   "cell_type": "code",
   "execution_count": null,
   "metadata": {},
   "outputs": [],
   "source": []
  }
 ],
 "metadata": {
  "colab": {
   "name": "Hypothesis testing with 2 samples-Structure.ipynb",
   "provenance": []
  },
  "kernelspec": {
   "display_name": "Python 3 (ipykernel)",
   "language": "python",
   "name": "python3"
  },
  "language_info": {
   "codemirror_mode": {
    "name": "ipython",
    "version": 3
   },
   "file_extension": ".py",
   "mimetype": "text/x-python",
   "name": "python",
   "nbconvert_exporter": "python",
   "pygments_lexer": "ipython3",
   "version": "3.9.7"
  },
  "toc": {
   "base_numbering": 1,
   "nav_menu": {},
   "number_sections": true,
   "sideBar": true,
   "skip_h1_title": false,
   "title_cell": "Table of Contents",
   "title_sidebar": "Contents",
   "toc_cell": false,
   "toc_position": {},
   "toc_section_display": true,
   "toc_window_display": false
  },
  "varInspector": {
   "cols": {
    "lenName": 16,
    "lenType": 16,
    "lenVar": 40
   },
   "kernels_config": {
    "python": {
     "delete_cmd_postfix": "",
     "delete_cmd_prefix": "del ",
     "library": "var_list.py",
     "varRefreshCmd": "print(var_dic_list())"
    },
    "r": {
     "delete_cmd_postfix": ") ",
     "delete_cmd_prefix": "rm(",
     "library": "var_list.r",
     "varRefreshCmd": "cat(var_dic_list()) "
    }
   },
   "types_to_exclude": [
    "module",
    "function",
    "builtin_function_or_method",
    "instance",
    "_Feature"
   ],
   "window_display": false
  }
 },
 "nbformat": 4,
 "nbformat_minor": 1
}
